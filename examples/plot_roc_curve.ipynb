{
 "cells": [
  {
   "cell_type": "markdown",
   "id": "1167c554",
   "metadata": {},
   "source": [
    "# Plotting Receiver Operating Characteristic (ROC) Curves Demo\n",
    "<hr>\n",
    "\n",
    "Author: ***Willa Potosnak***  &lt;wpotosna@andrew.cmu.edu&gt;\n",
    "\n",
    "## Contents\n",
    "### 1. [Introduction](#introduction) \n",
    "\n",
    "### 2. [Import Model Results](#import) \n",
    "       \n",
    "### 3. [Plotting ROC Curves with Parametric Confidence Intervals](#para)\n",
    "\n",
    "####   &nbsp;&nbsp;&nbsp;&nbsp; &nbsp;&nbsp;&nbsp;&nbsp; &nbsp;&nbsp;&nbsp;   3.1 [Plotting with bokeh](#parabokeh)\n",
    "####   &nbsp;&nbsp;&nbsp;&nbsp; &nbsp;&nbsp;&nbsp;&nbsp; &nbsp;&nbsp;&nbsp;   3.2 [Plotting with matplotlib](#paramat)\n",
    "\n",
    "### 4. [Plotting ROC Curves with Bootstrap (non-parametric) Confidence Intervals](#nonpara)\n",
    "#### &nbsp;&nbsp;&nbsp;&nbsp; &nbsp;&nbsp;&nbsp;&nbsp; &nbsp;&nbsp;&nbsp;   4.1 [Plotting with bokeh](#nonparabokeh)\n",
    "####   &nbsp;&nbsp;&nbsp;&nbsp; &nbsp;&nbsp;&nbsp;&nbsp; &nbsp;&nbsp;&nbsp;   4.2 [Plotting with matplotlib](#nonparamat)\n",
    "\n",
    "<hr>\n"
   ]
  },
  {
   "cell_type": "markdown",
   "id": "927964e1",
   "metadata": {},
   "source": [
    "<a id='introduction'></a>\n",
    "\n",
    "## 1. Introduction"
   ]
  },
  {
   "cell_type": "markdown",
   "id": "3249a4c9",
   "metadata": {},
   "source": [
    "Classification models that output scores, referred to as rating classifiers, do not output crisp binary decisionsor, or labels, to samples. As such, a discrimination threshold for the scores must be set to obtain binary decisions. Receiver Operating Characteristic (ROC) curve analysis is commonly used to evaluate binary classification model performance by computing the rates of true positive and negative classifications at each possible discrimination threshold. The ROC Curve plots the true positive rate (TPR) versus the false positive rate (FPR) (or the true negative rate (TNR) versus the false negative rate (FNR)) and provides a means to compare classifier performance in terms of ability to discriminate positive and negative samples. Common summary performance metrics for ROC curve analysis include area under the curve (AUC) as well as the specificity and sensitivity of the classifier.\n",
    "\n",
    "The `ROC_Curve_bokeh` and `ROC_Curve_matplotlib` classes allow a user to plot ROC Curves using the bokeh and matplotlib, respectively. Both classes can be used to plot either the true positive rate versus the false postive rate (direction='TPRvsFPR') or the true negative rate versus the false negative rate (direction='TNRvsFNR'). The plots can be displayed either with the x-axis set on a linear (x_scale='linear') or log10 scale (x_scale='log'). Plot format (e.g, text size, plot x- and y-range, etc.) can also be customized."
   ]
  },
  {
   "cell_type": "markdown",
   "id": "71585b31",
   "metadata": {},
   "source": [
    "<a id='import'></a>\n",
    "\n",
    "## 2. Import Model Results\n",
    "Create pandas DataFrame objects for the truth lables, classifier scores, and cross-validation folds (if applicable)"
   ]
  },
  {
   "cell_type": "code",
   "execution_count": null,
   "id": "29445fcd",
   "metadata": {},
   "outputs": [],
   "source": [
    "import numpy as np\n",
    "import os\n",
    "import pandas as pd\n",
    "import sys\n",
    "\n",
    "sys.path.append('../')"
   ]
  },
  {
   "cell_type": "code",
   "execution_count": null,
   "id": "831d1b8d",
   "metadata": {},
   "outputs": [],
   "source": [
    "score_file_path = os.getcwd()\n",
    "classifier_1_scores = pd.read_csv(score_file_path+'/classifier_1_scores.csv')\n",
    "classifier_2_scores = pd.read_csv(open(score_file_path+'/classifier_2_scores.csv'))\n",
    "\n",
    "classifier_1_truth = pd.DataFrame(classifier_1_scores, columns=['truth'])\n",
    "classifier_1_predictions = pd.DataFrame(classifier_1_scores, columns=['predictions'])\n",
    "classifier_1_folds = pd.DataFrame(classifier_1_scores, columns=['fold'])\n",
    "\n",
    "classifier_2_truth = pd.DataFrame(classifier_2_scores, columns=['truth'])\n",
    "classifier_2_predictions = pd.DataFrame(classifier_2_scores, columns=['predictions'])\n",
    "classifier_2_folds = pd.DataFrame(classifier_2_scores, columns=['fold'])"
   ]
  },
  {
   "cell_type": "markdown",
   "id": "15f47ceb",
   "metadata": {},
   "source": [
    "<a id='para'></a>\n",
    "\n",
    "## 3. Plotting ROC Curves with Parametric Confidence Intervals\n",
    "The true label dataframe(s), prediction dataframe(s), fold dataframe(s), legend label(s), and line color(s) must be stored in a python list. \n",
    "Each list item should correspond to different classifier results."
   ]
  },
  {
   "cell_type": "code",
   "execution_count": null,
   "id": "cc5b48d0",
   "metadata": {},
   "outputs": [],
   "source": [
    "truth = [classifier_1_truth, classifier_2_truth]\n",
    "preds = [classifier_1_predictions, classifier_2_predictions]\n",
    "folds = [classifier_1_folds, classifier_2_folds]\n",
    "labels = ['classifier 1', 'classifier 2']\n",
    "colors = ['blue', 'red']"
   ]
  },
  {
   "cell_type": "markdown",
   "id": "6cd71cae",
   "metadata": {},
   "source": [
    "<a id='parabokeh'></a>\n",
    "\n",
    "### 3.1 Plotting with bokeh"
   ]
  },
  {
   "cell_type": "code",
   "execution_count": null,
   "id": "1a5b1afa",
   "metadata": {},
   "outputs": [],
   "source": [
    "from roc_curve.plotting import ROC_Curve_bokeh\n",
    "\n",
    "plt = ROC_Curve_bokeh(axis_label_size='22', axis_tick_size='16', legend_text_size='18')\n",
    "\n",
    "plt.plot(true_labels=truth, predictions=preds, folds=folds, xrange=(0,1), yrange=(0,1), direction='TPRvsFPR', \n",
    "         x_scale='linear', line_width=4, line_dash='solid', line_color=colors, legend_label=labels, \n",
    "         legend_location='bottom_right', ci_method='parametric', alpha=0.05, bootstrap_iters=None, random_seed=0)\n",
    "\n",
    "plt.plot(true_labels=truth, predictions=preds, folds=folds, xrange=(-2.8,0), yrange=(0,1),  direction='TPRvsFPR', \n",
    "         x_scale='log', line_width=4, line_dash='solid', line_color=colors, legend_label=labels, \n",
    "         legend_location='bottom_right', ci_method='parametric', alpha=0.05, bootstrap_iters=None, random_seed=0)\n",
    "\n",
    "plt.plot(true_labels=truth, predictions=preds, folds=folds, xrange=(0,1), yrange=(0,1), direction='TNRvsFNR', \n",
    "         x_scale='linear', line_width=4, line_dash='solid', line_color=colors, legend_label=labels, \n",
    "         legend_location='bottom_right', ci_method='parametric', alpha=0.05, bootstrap_iters=None, random_seed=0)\n",
    "\n",
    "plt.plot(true_labels=truth, predictions=preds, folds=folds, xrange=(-2.8,0), yrange=(0,1), direction='TNRvsFNR', \n",
    "         x_scale='log', line_width=4, line_dash='solid', line_color=colors, legend_label=labels, \n",
    "         legend_location='bottom_right', ci_method='parametric', alpha=0.05, bootstrap_iters=None, random_seed=0)"
   ]
  },
  {
   "cell_type": "markdown",
   "id": "728019d6",
   "metadata": {},
   "source": [
    "<a id='paramat'></a>\n",
    "\n",
    "### 3.2 Plotting with matplotlib"
   ]
  },
  {
   "cell_type": "code",
   "execution_count": null,
   "id": "74399280",
   "metadata": {},
   "outputs": [],
   "source": [
    "from roc_curve.plotting import ROC_Curve_matplotlib\n",
    "\n",
    "plt = ROC_Curve_matplotlib(axis_label_size='22', axis_tick_size='16', legend_text_size='18')\n",
    "\n",
    "plt.plot(true_labels=truth, predictions=preds, folds=folds, xrange=(0,1), yrange=(0,1), direction='TPRvsFPR', \n",
    "         x_scale='linear', line_width=4, line_dash='solid', line_color=colors, legend_label=labels, \n",
    "         legend_location='lower right', ci_method='parametric', alpha=0.05, bootstrap_iters=None, random_seed=0, save_dir=None)\n",
    "\n",
    "plt.plot(true_labels=truth, predictions=preds, folds=folds, xrange=(0.001, 1), yrange=(0,1),  direction='TPRvsFPR', \n",
    "         x_scale='log', line_width=4, line_dash='solid', line_color=colors, legend_label=labels, \n",
    "         legend_location='lower right', ci_method='parametric', alpha=0.05, bootstrap_iters=None, random_seed=0, save_dir=None)\n",
    "\n",
    "plt.plot(true_labels=truth, predictions=preds, folds=folds, xrange=(0,1), yrange=(0,1), direction='TNRvsFNR', \n",
    "         x_scale='linear', line_width=4, line_dash='solid', line_color=colors, legend_label=labels, \n",
    "         legend_location='lower right', ci_method='parametric', alpha=0.05, bootstrap_iters=None, random_seed=0, save_dir=None)\n",
    "\n",
    "plt.plot(true_labels=truth, predictions=preds, folds=folds, xrange=(0.001, 1), yrange=(0,1), direction='TNRvsFNR', \n",
    "         x_scale='log', line_width=4, line_dash='solid', line_color=colors, legend_label=labels, \n",
    "         legend_location='lower right', ci_method='parametric', alpha=0.05, bootstrap_iters=None, random_seed=0, save_dir=None)"
   ]
  },
  {
   "cell_type": "markdown",
   "id": "47f37f75",
   "metadata": {},
   "source": [
    "<a id='nonpara'></a>\n",
    "\n",
    "## 4. Plotting ROC Curves with Bootstrap (Non-parametric) Confidence Intervals\n",
    "The true label dataframe(s), prediction dataframe(s), legend label(s), and line color(s) must be stored in a python list. Folds must be set to None. Each list item should correspond to different classifier results."
   ]
  },
  {
   "cell_type": "code",
   "execution_count": null,
   "id": "1a311cb1",
   "metadata": {},
   "outputs": [],
   "source": [
    "truth = [classifier_1_truth.iloc[np.where(classifier_1_folds==1)[0]], classifier_2_truth.iloc[np.where(classifier_2_folds==1)[0]]]\n",
    "preds = [classifier_1_predictions.iloc[np.where(classifier_1_folds==1)[0]], classifier_2_predictions.iloc[np.where(classifier_2_folds==1)[0]]]\n",
    "labels = ['classifier_1', 'classifier_2']\n",
    "colors = ['blue', 'red']"
   ]
  },
  {
   "cell_type": "markdown",
   "id": "7d350824",
   "metadata": {},
   "source": [
    "<a id='nonparabokeh'></a>\n",
    "\n",
    "### 4.1 Plotting with bokeh"
   ]
  },
  {
   "cell_type": "code",
   "execution_count": null,
   "id": "955e8c69",
   "metadata": {},
   "outputs": [],
   "source": [
    "from roc_curve.plotting import ROC_Curve_bokeh\n",
    "\n",
    "plt = ROC_Curve_bokeh(axis_label_size='22', axis_tick_size='16', legend_text_size='18')\n",
    "\n",
    "plt.plot(true_labels=truth, predictions=preds, folds=None, xrange=(0, 1), yrange=(0,1),  direction='TPRvsFPR', \n",
    "         x_scale='linear', line_width=4, line_dash='solid', line_color=colors, legend_label=labels, \n",
    "         legend_location='bottom_right', ci_method='bootstrap', alpha=0.05, bootstrap_iters=100, random_seed=0)\n",
    "\n",
    "plt.plot(true_labels=truth, predictions=preds, folds=None, xrange=(-2.8,0), yrange=(0,1),  direction='TPRvsFPR', \n",
    "         x_scale='log', line_width=4, line_dash='solid', line_color=colors, legend_label=labels, \n",
    "         legend_location='bottom_right', ci_method='bootstrap', alpha=0.05, bootstrap_iters=100, random_seed=0)\n",
    "\n",
    "plt.plot(true_labels=truth, predictions=preds, folds=None, xrange=(0, 1), yrange=(0,1),  direction='TNRvsFNR', \n",
    "         x_scale='linear', line_width=4, line_dash='solid', line_color=colors, legend_label=labels, \n",
    "         legend_location='bottom_right', ci_method='bootstrap', alpha=0.05, bootstrap_iters=100, random_seed=0)\n",
    "\n",
    "plt.plot(true_labels=truth, predictions=preds, folds=None, xrange=(-2.8,0), yrange=(0,1),  direction='TNRvsFNR', \n",
    "         x_scale='log', line_width=4, line_dash='solid', line_color=colors, legend_label=labels, \n",
    "         legend_location='bottom_right', ci_method='bootstrap', alpha=0.05, bootstrap_iters=100, random_seed=0)"
   ]
  },
  {
   "cell_type": "markdown",
   "id": "a54de02d",
   "metadata": {},
   "source": [
    "<a id='nonparamat'></a>\n",
    "\n",
    "### 4.2 Plotting with matplotlib"
   ]
  },
  {
   "cell_type": "code",
   "execution_count": null,
   "id": "a9efe4e7",
   "metadata": {},
   "outputs": [],
   "source": [
    "from roc_curve.plotting import ROC_Curve_matplotlib\n",
    "\n",
    "plt = ROC_Curve_matplotlib(axis_label_size='22', axis_tick_size='16', legend_text_size='18')\n",
    "\n",
    "plt.plot(true_labels=truth, predictions=preds, folds=None, xrange=(0,1), yrange=(0,1), direction='TPRvsFPR', \n",
    "         x_scale='linear', line_width=4, line_dash='solid', line_color=colors, legend_label=labels, \n",
    "         legend_location='lower right', ci_method='bootstrap', alpha=0.05, bootstrap_iters=100, random_seed=0, save_dir=None)\n",
    "\n",
    "plt.plot(true_labels=truth, predictions=preds, folds=None, xrange=(0.001, 1), yrange=(0,1),  direction='TPRvsFPR', \n",
    "         x_scale='log', line_width=4, line_dash='solid', line_color=colors, legend_label=labels, \n",
    "         legend_location='lower right', ci_method='bootstrap', alpha=0.05, bootstrap_iters=100, random_seed=0, save_dir=None)\n",
    "\n",
    "plt.plot(true_labels=truth, predictions=preds, folds=None, xrange=(0,1), yrange=(0,1), direction='TNRvsFNR', \n",
    "         x_scale='linear', line_width=4, line_dash='solid', line_color=colors, legend_label=labels, \n",
    "         legend_location='lower right', ci_method='bootstrap', alpha=0.05, bootstrap_iters=100, random_seed=0, save_dir=None)\n",
    "\n",
    "plt.plot(true_labels=truth, predictions=preds, folds=None, xrange=(0.001, 1), yrange=(0,1), direction='TNRvsFNR', \n",
    "         x_scale='log', line_width=4, line_dash='solid', line_color=colors, legend_label=labels, \n",
    "         legend_location='lower right', ci_method='bootstrap', alpha=0.05, bootstrap_iters=100, random_seed=0, save_dir=None)"
   ]
  },
  {
   "cell_type": "code",
   "execution_count": null,
   "id": "71f35bc5",
   "metadata": {},
   "outputs": [],
   "source": []
  }
 ],
 "metadata": {
  "kernelspec": {
   "display_name": "Python 3",
   "language": "python",
   "name": "python3"
  },
  "language_info": {
   "codemirror_mode": {
    "name": "ipython",
    "version": 3
   },
   "file_extension": ".py",
   "mimetype": "text/x-python",
   "name": "python",
   "nbconvert_exporter": "python",
   "pygments_lexer": "ipython3",
   "version": "3.9.7"
  }
 },
 "nbformat": 4,
 "nbformat_minor": 5
}
